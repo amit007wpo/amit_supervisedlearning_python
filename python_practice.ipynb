{
 "cells": [
  {
   "cell_type": "code",
   "execution_count": 1,
   "id": "188ae8fb",
   "metadata": {},
   "outputs": [
    {
     "name": "stdout",
     "output_type": "stream",
     "text": [
      "3\n"
     ]
    }
   ],
   "source": [
    "a=3\n",
    "print(a)"
   ]
  },
  {
   "cell_type": "code",
   "execution_count": 2,
   "id": "ed97a1a5",
   "metadata": {},
   "outputs": [
    {
     "name": "stdout",
     "output_type": "stream",
     "text": [
      "5\n"
     ]
    }
   ],
   "source": [
    "b=5\n",
    "print(b)"
   ]
  },
  {
   "cell_type": "code",
   "execution_count": 3,
   "id": "bdf4c3d3",
   "metadata": {},
   "outputs": [
    {
     "name": "stdout",
     "output_type": "stream",
     "text": [
      "8\n"
     ]
    }
   ],
   "source": [
    "print(a+b)"
   ]
  },
  {
   "cell_type": "code",
   "execution_count": 4,
   "id": "9ff3b8e0",
   "metadata": {},
   "outputs": [],
   "source": [
    "c =3.4"
   ]
  },
  {
   "cell_type": "code",
   "execution_count": 5,
   "id": "2c9d2c89",
   "metadata": {},
   "outputs": [
    {
     "data": {
      "text/plain": [
       "float"
      ]
     },
     "execution_count": 5,
     "metadata": {},
     "output_type": "execute_result"
    }
   ],
   "source": [
    "type(c)"
   ]
  },
  {
   "cell_type": "code",
   "execution_count": 6,
   "id": "1f88ce4e",
   "metadata": {},
   "outputs": [
    {
     "data": {
      "text/plain": [
       "int"
      ]
     },
     "execution_count": 6,
     "metadata": {},
     "output_type": "execute_result"
    }
   ],
   "source": [
    "type(a)"
   ]
  },
  {
   "cell_type": "code",
   "execution_count": 7,
   "id": "2f49e596",
   "metadata": {},
   "outputs": [],
   "source": [
    "d = 3.0"
   ]
  },
  {
   "cell_type": "code",
   "execution_count": 8,
   "id": "660edc02",
   "metadata": {},
   "outputs": [
    {
     "data": {
      "text/plain": [
       "float"
      ]
     },
     "execution_count": 8,
     "metadata": {},
     "output_type": "execute_result"
    }
   ],
   "source": [
    "type(d)"
   ]
  },
  {
   "cell_type": "code",
   "execution_count": 9,
   "id": "1a95d9a8",
   "metadata": {},
   "outputs": [],
   "source": [
    "d=3.4"
   ]
  },
  {
   "cell_type": "code",
   "execution_count": 10,
   "id": "72cf4584",
   "metadata": {},
   "outputs": [
    {
     "data": {
      "text/plain": [
       "float"
      ]
     },
     "execution_count": 10,
     "metadata": {},
     "output_type": "execute_result"
    }
   ],
   "source": [
    "type(d)"
   ]
  },
  {
   "cell_type": "code",
   "execution_count": 11,
   "id": "0ff7b14e",
   "metadata": {},
   "outputs": [],
   "source": [
    "d=int(d)"
   ]
  },
  {
   "cell_type": "code",
   "execution_count": 12,
   "id": "386ea709",
   "metadata": {},
   "outputs": [
    {
     "name": "stdout",
     "output_type": "stream",
     "text": [
      "3\n"
     ]
    }
   ],
   "source": [
    "print(d)"
   ]
  },
  {
   "cell_type": "code",
   "execution_count": 13,
   "id": "1d573760",
   "metadata": {},
   "outputs": [
    {
     "data": {
      "text/plain": [
       "int"
      ]
     },
     "execution_count": 13,
     "metadata": {},
     "output_type": "execute_result"
    }
   ],
   "source": [
    "type(d)"
   ]
  },
  {
   "cell_type": "code",
   "execution_count": 14,
   "id": "e398cc1f",
   "metadata": {},
   "outputs": [
    {
     "ename": "SyntaxError",
     "evalue": "cannot assign to literal (<ipython-input-14-854395b88690>, line 1)",
     "output_type": "error",
     "traceback": [
      "\u001b[1;36m  File \u001b[1;32m\"<ipython-input-14-854395b88690>\"\u001b[1;36m, line \u001b[1;32m1\u001b[0m\n\u001b[1;33m    a =3, b=4\u001b[0m\n\u001b[1;37m       ^\u001b[0m\n\u001b[1;31mSyntaxError\u001b[0m\u001b[1;31m:\u001b[0m cannot assign to literal\n"
     ]
    }
   ],
   "source": [
    "a =3, b=4"
   ]
  },
  {
   "cell_type": "code",
   "execution_count": 15,
   "id": "303f736d",
   "metadata": {},
   "outputs": [],
   "source": [
    "a=3\n",
    "b=4"
   ]
  },
  {
   "cell_type": "code",
   "execution_count": 16,
   "id": "7907a38d",
   "metadata": {},
   "outputs": [
    {
     "data": {
      "text/plain": [
       "7"
      ]
     },
     "execution_count": 16,
     "metadata": {},
     "output_type": "execute_result"
    }
   ],
   "source": [
    "a+b"
   ]
  },
  {
   "cell_type": "code",
   "execution_count": 17,
   "id": "20adf262",
   "metadata": {},
   "outputs": [
    {
     "data": {
      "text/plain": [
       "12"
      ]
     },
     "execution_count": 17,
     "metadata": {},
     "output_type": "execute_result"
    }
   ],
   "source": [
    "a*b"
   ]
  },
  {
   "cell_type": "code",
   "execution_count": 18,
   "id": "6f533fe9",
   "metadata": {},
   "outputs": [],
   "source": [
    "c=2"
   ]
  },
  {
   "cell_type": "code",
   "execution_count": 19,
   "id": "9198bb65",
   "metadata": {},
   "outputs": [
    {
     "data": {
      "text/plain": [
       "11"
      ]
     },
     "execution_count": 19,
     "metadata": {},
     "output_type": "execute_result"
    }
   ],
   "source": [
    "a+b*c"
   ]
  },
  {
   "cell_type": "code",
   "execution_count": 20,
   "id": "ffd74e98",
   "metadata": {},
   "outputs": [
    {
     "data": {
      "text/plain": [
       "14"
      ]
     },
     "execution_count": 20,
     "metadata": {},
     "output_type": "execute_result"
    }
   ],
   "source": [
    "(a+b)*c"
   ]
  },
  {
   "cell_type": "code",
   "execution_count": 21,
   "id": "63d0df67",
   "metadata": {},
   "outputs": [
    {
     "data": {
      "text/plain": [
       "81"
      ]
     },
     "execution_count": 21,
     "metadata": {},
     "output_type": "execute_result"
    }
   ],
   "source": [
    "a**b"
   ]
  },
  {
   "cell_type": "code",
   "execution_count": 22,
   "id": "9e307574",
   "metadata": {},
   "outputs": [
    {
     "data": {
      "text/plain": [
       "0.75"
      ]
     },
     "execution_count": 22,
     "metadata": {},
     "output_type": "execute_result"
    }
   ],
   "source": [
    "a/b"
   ]
  },
  {
   "cell_type": "code",
   "execution_count": 1,
   "id": "6f3ec493",
   "metadata": {},
   "outputs": [],
   "source": [
    "# consider sample list\n",
    "cities = ['Banagalore','Kolkata','Chennai','Pune']"
   ]
  },
  {
   "cell_type": "code",
   "execution_count": 2,
   "id": "13534d6b",
   "metadata": {},
   "outputs": [
    {
     "data": {
      "text/plain": [
       "list"
      ]
     },
     "execution_count": 2,
     "metadata": {},
     "output_type": "execute_result"
    }
   ],
   "source": [
    "type(cities)"
   ]
  },
  {
   "cell_type": "code",
   "execution_count": 3,
   "id": "617c1769",
   "metadata": {},
   "outputs": [
    {
     "data": {
      "text/plain": [
       "4"
      ]
     },
     "execution_count": 3,
     "metadata": {},
     "output_type": "execute_result"
    }
   ],
   "source": [
    "len(cities)"
   ]
  },
  {
   "cell_type": "code",
   "execution_count": 4,
   "id": "76a73286",
   "metadata": {},
   "outputs": [
    {
     "data": {
      "text/plain": [
       "'Chennai'"
      ]
     },
     "execution_count": 4,
     "metadata": {},
     "output_type": "execute_result"
    }
   ],
   "source": [
    "cities[2]"
   ]
  },
  {
   "cell_type": "code",
   "execution_count": 5,
   "id": "ecd0b3a4",
   "metadata": {},
   "outputs": [
    {
     "data": {
      "text/plain": [
       "'Pune'"
      ]
     },
     "execution_count": 5,
     "metadata": {},
     "output_type": "execute_result"
    }
   ],
   "source": [
    "cities[-1]"
   ]
  },
  {
   "cell_type": "code",
   "execution_count": 6,
   "id": "8330a071",
   "metadata": {},
   "outputs": [
    {
     "ename": "NameError",
     "evalue": "name 'citis' is not defined",
     "output_type": "error",
     "traceback": [
      "\u001b[1;31m---------------------------------------------------------------------------\u001b[0m",
      "\u001b[1;31mNameError\u001b[0m                                 Traceback (most recent call last)",
      "\u001b[1;32m<ipython-input-6-1695d4594c20>\u001b[0m in \u001b[0;36m<module>\u001b[1;34m\u001b[0m\n\u001b[1;32m----> 1\u001b[1;33m \u001b[0mcitis\u001b[0m\u001b[1;33m[\u001b[0m\u001b[1;33m:\u001b[0m\u001b[1;36m2\u001b[0m\u001b[1;33m]\u001b[0m\u001b[1;33m\u001b[0m\u001b[1;33m\u001b[0m\u001b[0m\n\u001b[0m",
      "\u001b[1;31mNameError\u001b[0m: name 'citis' is not defined"
     ]
    }
   ],
   "source": [
    "citis[:2]"
   ]
  },
  {
   "cell_type": "code",
   "execution_count": 7,
   "id": "71a2cb36",
   "metadata": {},
   "outputs": [
    {
     "data": {
      "text/plain": [
       "['Banagalore', 'Kolkata']"
      ]
     },
     "execution_count": 7,
     "metadata": {},
     "output_type": "execute_result"
    }
   ],
   "source": [
    "cities[:2]"
   ]
  },
  {
   "cell_type": "code",
   "execution_count": 8,
   "id": "c69de714",
   "metadata": {},
   "outputs": [
    {
     "data": {
      "text/plain": [
       "['Chennai', 'Pune']"
      ]
     },
     "execution_count": 8,
     "metadata": {},
     "output_type": "execute_result"
    }
   ],
   "source": [
    "cities[2:]"
   ]
  },
  {
   "cell_type": "code",
   "execution_count": 9,
   "id": "97f18f3c",
   "metadata": {},
   "outputs": [],
   "source": [
    "cities.append('Bhopal')"
   ]
  },
  {
   "cell_type": "code",
   "execution_count": 10,
   "id": "f54839ac",
   "metadata": {},
   "outputs": [
    {
     "data": {
      "text/plain": [
       "['Banagalore', 'Kolkata', 'Chennai', 'Pune', 'Bhopal']"
      ]
     },
     "execution_count": 10,
     "metadata": {},
     "output_type": "execute_result"
    }
   ],
   "source": [
    "cities"
   ]
  },
  {
   "cell_type": "code",
   "execution_count": 11,
   "id": "a78d1cb6",
   "metadata": {},
   "outputs": [
    {
     "ename": "TypeError",
     "evalue": "append() takes exactly one argument (2 given)",
     "output_type": "error",
     "traceback": [
      "\u001b[1;31m---------------------------------------------------------------------------\u001b[0m",
      "\u001b[1;31mTypeError\u001b[0m                                 Traceback (most recent call last)",
      "\u001b[1;32m<ipython-input-11-5efb66c18c14>\u001b[0m in \u001b[0;36m<module>\u001b[1;34m\u001b[0m\n\u001b[1;32m----> 1\u001b[1;33m \u001b[0mcities\u001b[0m\u001b[1;33m.\u001b[0m\u001b[0mappend\u001b[0m\u001b[1;33m(\u001b[0m\u001b[1;34m'Pondichery'\u001b[0m\u001b[1;33m,\u001b[0m\u001b[1;34m'Siliguri'\u001b[0m\u001b[1;33m)\u001b[0m\u001b[1;33m\u001b[0m\u001b[1;33m\u001b[0m\u001b[0m\n\u001b[0m",
      "\u001b[1;31mTypeError\u001b[0m: append() takes exactly one argument (2 given)"
     ]
    }
   ],
   "source": [
    "cities.append('Pondichery','Siliguri')"
   ]
  },
  {
   "cell_type": "code",
   "execution_count": 12,
   "id": "b08d3c42",
   "metadata": {},
   "outputs": [
    {
     "ename": "TypeError",
     "evalue": "extend() takes exactly one argument (2 given)",
     "output_type": "error",
     "traceback": [
      "\u001b[1;31m---------------------------------------------------------------------------\u001b[0m",
      "\u001b[1;31mTypeError\u001b[0m                                 Traceback (most recent call last)",
      "\u001b[1;32m<ipython-input-12-feec70cb15d2>\u001b[0m in \u001b[0;36m<module>\u001b[1;34m\u001b[0m\n\u001b[1;32m----> 1\u001b[1;33m \u001b[0mcities\u001b[0m\u001b[1;33m.\u001b[0m\u001b[0mextend\u001b[0m\u001b[1;33m(\u001b[0m\u001b[1;34m'Pondichery'\u001b[0m\u001b[1;33m,\u001b[0m\u001b[1;34m'Siliguri'\u001b[0m\u001b[1;33m)\u001b[0m\u001b[1;33m\u001b[0m\u001b[1;33m\u001b[0m\u001b[0m\n\u001b[0m",
      "\u001b[1;31mTypeError\u001b[0m: extend() takes exactly one argument (2 given)"
     ]
    }
   ],
   "source": [
    "cities.extend('Pondichery','Siliguri')"
   ]
  },
  {
   "cell_type": "code",
   "execution_count": 13,
   "id": "9aa71e20",
   "metadata": {},
   "outputs": [],
   "source": [
    "cities.extend(['Pondichery','Siliguri'])"
   ]
  },
  {
   "cell_type": "code",
   "execution_count": 14,
   "id": "f9cc6146",
   "metadata": {},
   "outputs": [
    {
     "data": {
      "text/plain": [
       "['Banagalore',\n",
       " 'Kolkata',\n",
       " 'Chennai',\n",
       " 'Pune',\n",
       " 'Bhopal',\n",
       " 'Pondichery',\n",
       " 'Siliguri']"
      ]
     },
     "execution_count": 14,
     "metadata": {},
     "output_type": "execute_result"
    }
   ],
   "source": [
    "cities"
   ]
  },
  {
   "cell_type": "code",
   "execution_count": 15,
   "id": "01d62d5c",
   "metadata": {},
   "outputs": [
    {
     "ename": "SyntaxError",
     "evalue": "invalid syntax (<ipython-input-15-47756b33c24d>, line 1)",
     "output_type": "error",
     "traceback": [
      "\u001b[1;36m  File \u001b[1;32m\"<ipython-input-15-47756b33c24d>\"\u001b[1;36m, line \u001b[1;32m1\u001b[0m\n\u001b[1;33m    cities(2:)\u001b[0m\n\u001b[1;37m            ^\u001b[0m\n\u001b[1;31mSyntaxError\u001b[0m\u001b[1;31m:\u001b[0m invalid syntax\n"
     ]
    }
   ],
   "source": [
    "cities(2:)"
   ]
  },
  {
   "cell_type": "code",
   "execution_count": 16,
   "id": "9e46e369",
   "metadata": {},
   "outputs": [
    {
     "data": {
      "text/plain": [
       "['Chennai', 'Pune', 'Bhopal', 'Pondichery', 'Siliguri']"
      ]
     },
     "execution_count": 16,
     "metadata": {},
     "output_type": "execute_result"
    }
   ],
   "source": [
    "cities[2:]"
   ]
  },
  {
   "cell_type": "code",
   "execution_count": 17,
   "id": "e2f5b630",
   "metadata": {},
   "outputs": [
    {
     "data": {
      "text/plain": [
       "['Bhopal', 'Pondichery', 'Siliguri']"
      ]
     },
     "execution_count": 17,
     "metadata": {},
     "output_type": "execute_result"
    }
   ],
   "source": [
    "cities[-3:]"
   ]
  },
  {
   "cell_type": "code",
   "execution_count": 18,
   "id": "4bbc74c6",
   "metadata": {},
   "outputs": [],
   "source": [
    "cities.sort()"
   ]
  },
  {
   "cell_type": "code",
   "execution_count": 19,
   "id": "85e50f5e",
   "metadata": {},
   "outputs": [
    {
     "data": {
      "text/plain": [
       "['Banagalore',\n",
       " 'Bhopal',\n",
       " 'Chennai',\n",
       " 'Kolkata',\n",
       " 'Pondichery',\n",
       " 'Pune',\n",
       " 'Siliguri']"
      ]
     },
     "execution_count": 19,
     "metadata": {},
     "output_type": "execute_result"
    }
   ],
   "source": [
    "cities"
   ]
  },
  {
   "cell_type": "code",
   "execution_count": 20,
   "id": "18f625ea",
   "metadata": {},
   "outputs": [
    {
     "data": {
      "text/plain": [
       "'Siliguri'"
      ]
     },
     "execution_count": 20,
     "metadata": {},
     "output_type": "execute_result"
    }
   ],
   "source": [
    "# removing from list\n",
    "cities.pop()"
   ]
  },
  {
   "cell_type": "code",
   "execution_count": 21,
   "id": "6a9a2a63",
   "metadata": {},
   "outputs": [
    {
     "data": {
      "text/plain": [
       "['Banagalore', 'Bhopal', 'Chennai', 'Kolkata', 'Pondichery', 'Pune']"
      ]
     },
     "execution_count": 21,
     "metadata": {},
     "output_type": "execute_result"
    }
   ],
   "source": [
    "cities"
   ]
  },
  {
   "cell_type": "code",
   "execution_count": 22,
   "id": "3fb6681c",
   "metadata": {},
   "outputs": [
    {
     "ename": "AttributeError",
     "evalue": "'list' object has no attribute 'sorted'",
     "output_type": "error",
     "traceback": [
      "\u001b[1;31m---------------------------------------------------------------------------\u001b[0m",
      "\u001b[1;31mAttributeError\u001b[0m                            Traceback (most recent call last)",
      "\u001b[1;32m<ipython-input-22-be354e0eb5dc>\u001b[0m in \u001b[0;36m<module>\u001b[1;34m\u001b[0m\n\u001b[1;32m----> 1\u001b[1;33m \u001b[0mcities\u001b[0m\u001b[1;33m.\u001b[0m\u001b[0msorted\u001b[0m\u001b[1;33m(\u001b[0m\u001b[1;33m)\u001b[0m\u001b[1;33m\u001b[0m\u001b[1;33m\u001b[0m\u001b[0m\n\u001b[0m",
      "\u001b[1;31mAttributeError\u001b[0m: 'list' object has no attribute 'sorted'"
     ]
    }
   ],
   "source": [
    "cities.sorted()"
   ]
  },
  {
   "cell_type": "code",
   "execution_count": 24,
   "id": "b15132f2",
   "metadata": {},
   "outputs": [],
   "source": [
    "new_list = sorted(cities)"
   ]
  },
  {
   "cell_type": "code",
   "execution_count": 25,
   "id": "61df76c5",
   "metadata": {},
   "outputs": [
    {
     "data": {
      "text/plain": [
       "['Banagalore', 'Bhopal', 'Chennai', 'Kolkata', 'Pondichery', 'Pune']"
      ]
     },
     "execution_count": 25,
     "metadata": {},
     "output_type": "execute_result"
    }
   ],
   "source": [
    "new_list"
   ]
  },
  {
   "cell_type": "code",
   "execution_count": 26,
   "id": "79f708ac",
   "metadata": {},
   "outputs": [],
   "source": [
    "del cities[0]"
   ]
  },
  {
   "cell_type": "code",
   "execution_count": 27,
   "id": "9007f741",
   "metadata": {},
   "outputs": [
    {
     "data": {
      "text/plain": [
       "['Bhopal', 'Chennai', 'Kolkata', 'Pondichery', 'Pune']"
      ]
     },
     "execution_count": 27,
     "metadata": {},
     "output_type": "execute_result"
    }
   ],
   "source": [
    "cities"
   ]
  },
  {
   "cell_type": "code",
   "execution_count": 30,
   "id": "e4157e74",
   "metadata": {},
   "outputs": [],
   "source": [
    "cities.append(['Tejpur','Siliguri'])"
   ]
  },
  {
   "cell_type": "code",
   "execution_count": 28,
   "id": "00df7066",
   "metadata": {},
   "outputs": [],
   "source": [
    "sample_dict = {'Anil':21,'Bikas':23,'Nidhi':19,'Tarun':20}"
   ]
  },
  {
   "cell_type": "code",
   "execution_count": 29,
   "id": "8f93e9c6",
   "metadata": {},
   "outputs": [
    {
     "data": {
      "text/plain": [
       "{'Anil': 21, 'Bikas': 23, 'Nidhi': 19, 'Tarun': 20}"
      ]
     },
     "execution_count": 29,
     "metadata": {},
     "output_type": "execute_result"
    }
   ],
   "source": [
    "sample_dict"
   ]
  },
  {
   "cell_type": "code",
   "execution_count": 31,
   "id": "b9285f4c",
   "metadata": {},
   "outputs": [
    {
     "data": {
      "text/plain": [
       "['Bhopal', 'Chennai', 'Kolkata', 'Pondichery', 'Pune', ['Tejpur', 'Siliguri']]"
      ]
     },
     "execution_count": 31,
     "metadata": {},
     "output_type": "execute_result"
    }
   ],
   "source": [
    "cities"
   ]
  },
  {
   "cell_type": "code",
   "execution_count": 32,
   "id": "11497603",
   "metadata": {},
   "outputs": [
    {
     "data": {
      "text/plain": [
       "['Tejpur', 'Siliguri']"
      ]
     },
     "execution_count": 32,
     "metadata": {},
     "output_type": "execute_result"
    }
   ],
   "source": [
    "cities.pop()"
   ]
  },
  {
   "cell_type": "code",
   "execution_count": 33,
   "id": "29b9c9cf",
   "metadata": {},
   "outputs": [],
   "source": [
    "cities.extend(['Tejpur','Siliguri'])"
   ]
  },
  {
   "cell_type": "code",
   "execution_count": 34,
   "id": "9d8f9148",
   "metadata": {},
   "outputs": [
    {
     "data": {
      "text/plain": [
       "['Bhopal', 'Chennai', 'Kolkata', 'Pondichery', 'Pune', 'Tejpur', 'Siliguri']"
      ]
     },
     "execution_count": 34,
     "metadata": {},
     "output_type": "execute_result"
    }
   ],
   "source": [
    "cities"
   ]
  },
  {
   "cell_type": "code",
   "execution_count": 36,
   "id": "0fcc728d",
   "metadata": {},
   "outputs": [],
   "source": [
    "cities.sort(reverse=True)"
   ]
  },
  {
   "cell_type": "code",
   "execution_count": 37,
   "id": "a38db0d8",
   "metadata": {},
   "outputs": [
    {
     "data": {
      "text/plain": [
       "['Tejpur', 'Siliguri', 'Pune', 'Pondichery', 'Kolkata', 'Chennai', 'Bhopal']"
      ]
     },
     "execution_count": 37,
     "metadata": {},
     "output_type": "execute_result"
    }
   ],
   "source": [
    "cities"
   ]
  },
  {
   "cell_type": "code",
   "execution_count": null,
   "id": "c52a1303",
   "metadata": {},
   "outputs": [],
   "source": []
  }
 ],
 "metadata": {
  "kernelspec": {
   "display_name": "Python 3",
   "language": "python",
   "name": "python3"
  },
  "language_info": {
   "codemirror_mode": {
    "name": "ipython",
    "version": 3
   },
   "file_extension": ".py",
   "mimetype": "text/x-python",
   "name": "python",
   "nbconvert_exporter": "python",
   "pygments_lexer": "ipython3",
   "version": "3.8.8"
  }
 },
 "nbformat": 4,
 "nbformat_minor": 5
}
